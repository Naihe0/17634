{
 "cells": [
  {
   "cell_type": "markdown",
   "metadata": {},
   "source": [
    "# Homework 4\n",
    "\n",
    "### Load Data"
   ]
  },
  {
   "cell_type": "code",
   "execution_count": 24,
   "metadata": {},
   "outputs": [],
   "source": [
    "import pandas as pd\n",
    "\n",
    "unsupervised_train_df = pd.read_csv('labelled_training_data.csv') # 70% of the data\n",
    "unsupervised_test_df = pd.read_csv('labelled_testing_data.csv') # 15% of the data\n",
    "unsupervised_validation_df = pd.read_csv('labelled_validation_data.csv') # 15% of the data\n",
    "\n",
    "combined_df = pd.concat([unsupervised_train_df, unsupervised_test_df, unsupervised_validation_df], ignore_index=True)"
   ]
  },
  {
   "cell_type": "markdown",
   "metadata": {},
   "source": [
    "### Feature Engineering"
   ]
  },
  {
   "cell_type": "code",
   "execution_count": 25,
   "metadata": {},
   "outputs": [],
   "source": [
    "import pandas as pd\n",
    "import numpy as np\n",
    "from sklearn.preprocessing import LabelEncoder\n",
    "\n",
    "def feature_engineering(df, threshold=10.0):\n",
    "    # --------------------\n",
    "    # 1) Sort by Timestamp\n",
    "    # --------------------\n",
    "    df = df.sort_values('timestamp').reset_index(drop=True)\n",
    "    \n",
    "    # --------------------\n",
    "    # 2) Create rolling count feature\n",
    "    #    obs_count_in_window[i] = number of rows j where\n",
    "    #    Timestamp_j >= Timestamp_i - threshold and j <= i\n",
    "    # --------------------\n",
    "    times = df['timestamp'].values\n",
    "    # obs_count_in_window = []\n",
    "    # start_idx = 0\n",
    "    \n",
    "    # for i in range(len(df)):\n",
    "    #     current_t = times[i]\n",
    "    #     while times[start_idx] < current_t - threshold:\n",
    "    #         start_idx += 1\n",
    "    #     obs_count_in_window.append(i - start_idx + 1)\n",
    "    \n",
    "    # df['obs_count_in_window'] = obs_count_in_window\n",
    "    \n",
    "    # --------------------\n",
    "    # 3) Drop the original Timestamp\n",
    "    # --------------------\n",
    "    df.drop(columns=['timestamp'], inplace=True, errors='ignore')\n",
    "    \n",
    "    # --------------------\n",
    "    # 4) processId -> binary (is it in {0,1,2}?)\n",
    "    # --------------------\n",
    "    df['processId_binary'] = df['processId'].apply(lambda x: 1 if x in [0,1,2] else 0)\n",
    "    \n",
    "    # --------------------\n",
    "    # 5) threadId\n",
    "    #    Often not used; we’ll drop it here.\n",
    "    # --------------------\n",
    "    df.drop(columns=['threadId'], inplace=True, errors='ignore')\n",
    "    \n",
    "    # --------------------\n",
    "    # 6) parentProcessId -> binary (is it in {0,1,2}?)\n",
    "    # --------------------\n",
    "    df['parentProcessId_binary'] = df['parentProcessId'].apply(lambda x: 1 if x in [0,1,2] else 0)\n",
    "    \n",
    "    # --------------------\n",
    "    # 7) userId -> binary (<1000 => 0, >=1000 => 1)\n",
    "    # --------------------\n",
    "    # df['userId_binary'] = df['userId'].apply(lambda x: 1 if x >= 1000 else 0)\n",
    "    df.drop(columns=['userId'], inplace=True, errors='ignore')\n",
    "    \n",
    "    # --------------------\n",
    "    # 8) mountNamespace -> binary\n",
    "    #    e.g. 1 if == 4026532217, else 0\n",
    "    # --------------------\n",
    "    df['mountNamespace_binary'] = df['mountNamespace'].apply(lambda x: 1 if x == 4026532217 else 0)\n",
    "    \n",
    "    # --------------------\n",
    "    # 9) processName -> one-hot encoding\n",
    "    # --------------------\n",
    "    processName_dummies = pd.get_dummies(df['processName'], prefix='proc')\n",
    "    df = pd.concat([df, processName_dummies], axis=1)\n",
    "    \n",
    "    # --------------------\n",
    "    # 10) Compute 'hostName_occurrences' (Count of same hostName in window)\n",
    "    # --------------------\n",
    "    df['hostName_occurrences'] = 0\n",
    "\n",
    "    host_window_count = {} \n",
    "    start_idx = 0\n",
    "    \n",
    "    for i in range(len(df)):\n",
    "        current_t = times[i]\n",
    "        host = df.at[i, 'hostName']\n",
    "\n",
    "        while times[start_idx] < current_t - threshold:\n",
    "            old_host = df.at[start_idx, 'hostName']\n",
    "            host_window_count[old_host] = host_window_count.get(old_host, 0) - 1\n",
    "            if host_window_count[old_host] == 0:\n",
    "                del host_window_count[old_host]\n",
    "            start_idx += 1\n",
    "\n",
    "        host_window_count[host] = host_window_count.get(host, 0) + 1\n",
    "        df.at[i, 'hostName_occurrences'] = host_window_count[host]\n",
    "\n",
    "    df.drop(columns=['hostName'], inplace=True, errors='ignore')\n",
    "\n",
    "    # --------------------\n",
    "    # 11) eventId (label-encode) and drop eventName\n",
    "    # --------------------\n",
    "    le_eventId = LabelEncoder()\n",
    "    df['eventId_encoded'] = le_eventId.fit_transform(df['eventId'].astype(str))\n",
    "    df.drop(columns=['eventName'], inplace=True, errors='ignore')\n",
    "    \n",
    "    # --------------------\n",
    "    # 12) stackAddresses -> binary (empty or not)\n",
    "    # --------------------\n",
    "    def is_non_empty(addr):\n",
    "        if pd.isna(addr):\n",
    "            return 0\n",
    "        return 1 if addr.strip() else 0\n",
    "    \n",
    "    df['stackAddresses_binary'] = df['stackAddresses'].apply(is_non_empty)\n",
    "    \n",
    "    # --------------------\n",
    "    # 13) argsNum -> keep as numeric\n",
    "    # --------------------\n",
    "    # (No change needed)\n",
    "    \n",
    "    # --------------------\n",
    "    # 14) returnValue -> map negative => -1, zero => 0, positive => 1\n",
    "    # --------------------\n",
    "    def map_return(val):\n",
    "        if val < 0:\n",
    "            return -1\n",
    "        elif val == 0:\n",
    "            return 0\n",
    "        else:\n",
    "            return 1\n",
    "    df['returnValue_mapped'] = df['returnValue'].apply(map_return)\n",
    "    \n",
    "    # --------------------\n",
    "    # 15) Sus -> drop\n",
    "    # --------------------\n",
    "    # dropped in the next step\n",
    "    \n",
    "    # --------------------\n",
    "    # 16) Evil -> target\n",
    "    # --------------------\n",
    "    y = df['evil'].values\n",
    "    \n",
    "    # --------------------\n",
    "    # 17) Drop columns we have replaced or do not need\n",
    "    # --------------------\n",
    "    df.drop(columns=[\n",
    "        'processId',\n",
    "        'parentProcessId',\n",
    "        'userId',\n",
    "        'mountNamespace',\n",
    "        'processName',\n",
    "        'hostName',\n",
    "        'eventId',\n",
    "        'stackAddresses',\n",
    "        'returnValue',\n",
    "        'sus',  \n",
    "        'evil'\n",
    "    ], inplace=True, errors='ignore')\n",
    "    \n",
    "    if 'args' in df.columns:\n",
    "        df.drop(columns=['args'], inplace=True, errors='ignore')\n",
    "    \n",
    "    return df, y\n"
   ]
  },
  {
   "cell_type": "markdown",
   "metadata": {},
   "source": [
    "Replace the original timestamp feature with a new feature that counts how many events occurred in the previous threshold seconds (or any chosen time window)\n",
    "\n",
    "Binary Mappings for process IDs, parent process IDs, userId, mountNamespace, etc., simplify categorical IDs that have special “system” meaning (e.g., 0, 1, 2).\n",
    "\n",
    "One-Hot Encoding for processName and hostName is straightforward for Logistic Regression interpretability. (You could use label encoding if the number of unique names is very large, or if you worry about high-dimensional sparse data.)\n",
    "\n",
    "eventId vs eventName: We keep eventId but label-encode it. This is a compact representation, and eventName is dropped because it’s essentially the same information.\n",
    "\n",
    "stackAddresses often are empty, so we simply create a binary “empty vs. not-empty.” \n",
    "\n",
    "replace hostName with a count of how many times the same hostName appears within a rolling \\[threshold\\] seconds time window.\n",
    "\n",
    "returnValue is grouped into {-1, 0, +1}, capturing whether the call failed, succeeded with 0, or succeeded with a positive exit code."
   ]
  },
  {
   "cell_type": "markdown",
   "metadata": {},
   "source": [
    "### Prepare the Data for Supervised Learning"
   ]
  },
  {
   "cell_type": "code",
   "execution_count": 26,
   "metadata": {},
   "outputs": [
    {
     "name": "stdout",
     "output_type": "stream",
     "text": [
      "Train set distribution:\n",
      " 1    126940\n",
      "0    126551\n",
      "Name: evil, dtype: int64\n",
      "\n",
      "Test set distribution:\n",
      " 0    31881\n",
      "1    31492\n",
      "Name: evil, dtype: int64\n"
     ]
    }
   ],
   "source": [
    "from sklearn.model_selection import train_test_split\n",
    "\n",
    "df_evil_1 = combined_df[combined_df['evil'] == 1]\n",
    "df_evil_0 = combined_df[combined_df['evil'] == 0]\n",
    "\n",
    "min_size = min(len(df_evil_0), len(df_evil_1))\n",
    "\n",
    "df_evil_0_balanced = df_evil_0.sample(n=min_size, random_state=42)\n",
    "df_evil_1_balanced = df_evil_1.sample(n=min_size, random_state=42)\n",
    "\n",
    "balanced_df = pd.concat([df_evil_0_balanced, df_evil_1_balanced]).sample(frac=1)\n",
    "\n",
    "lr_train_df, lr_test_df = train_test_split(balanced_df, test_size=0.2)\n",
    "\n",
    "print(\"Train set distribution:\\n\", lr_train_df['evil'].value_counts())\n",
    "print(\"\\nTest set distribution:\\n\", lr_test_df['evil'].value_counts())\n",
    "\n"
   ]
  },
  {
   "cell_type": "code",
   "execution_count": 27,
   "metadata": {},
   "outputs": [
    {
     "name": "stdout",
     "output_type": "stream",
     "text": [
      "Train set distribution:\n",
      "0    786116\n",
      "1    126746\n",
      "Name: evil, dtype: int64\n",
      "\n",
      "Test set distribution:\n",
      "0    196530\n",
      "1     31686\n",
      "Name: evil, dtype: int64\n"
     ]
    }
   ],
   "source": [
    "from sklearn.model_selection import train_test_split\n",
    "\n",
    "lr_imb_train_df, lr_imb_test_df = train_test_split(\n",
    "    combined_df,\n",
    "    test_size=0.2,           \n",
    "    stratify=combined_df['evil']    \n",
    ")\n",
    "\n",
    "print(\"Train set distribution:\")\n",
    "print(lr_imb_train_df['evil'].value_counts())\n",
    "print(\"\\nTest set distribution:\")\n",
    "print(lr_imb_test_df['evil'].value_counts())"
   ]
  },
  {
   "cell_type": "code",
   "execution_count": 28,
   "metadata": {},
   "outputs": [
    {
     "ename": "NameError",
     "evalue": "name 'times' is not defined",
     "output_type": "error",
     "traceback": [
      "\u001b[1;31m---------------------------------------------------------------------------\u001b[0m",
      "\u001b[1;31mNameError\u001b[0m                                 Traceback (most recent call last)",
      "Input \u001b[1;32mIn [28]\u001b[0m, in \u001b[0;36m<cell line: 5>\u001b[1;34m()\u001b[0m\n\u001b[0;32m      2\u001b[0m \u001b[38;5;28;01mfrom\u001b[39;00m \u001b[38;5;21;01msklearn\u001b[39;00m\u001b[38;5;21;01m.\u001b[39;00m\u001b[38;5;21;01mlinear_model\u001b[39;00m \u001b[38;5;28;01mimport\u001b[39;00m LogisticRegression\n\u001b[0;32m      3\u001b[0m \u001b[38;5;28;01mfrom\u001b[39;00m \u001b[38;5;21;01msklearn\u001b[39;00m\u001b[38;5;21;01m.\u001b[39;00m\u001b[38;5;21;01mmetrics\u001b[39;00m \u001b[38;5;28;01mimport\u001b[39;00m roc_curve, auc, roc_auc_score\n\u001b[1;32m----> 5\u001b[0m X_train_bal, y_train_bal \u001b[38;5;241m=\u001b[39m \u001b[43mfeature_engineering\u001b[49m\u001b[43m(\u001b[49m\u001b[43mlr_train_df\u001b[49m\u001b[38;5;241;43m.\u001b[39;49m\u001b[43mcopy\u001b[49m\u001b[43m(\u001b[49m\u001b[43m)\u001b[49m\u001b[43m,\u001b[49m\u001b[43m \u001b[49m\u001b[43mthreshold\u001b[49m\u001b[38;5;241;43m=\u001b[39;49m\u001b[38;5;241;43m10.0\u001b[39;49m\u001b[43m)\u001b[49m\n\u001b[0;32m      6\u001b[0m X_test_bal,  y_test_bal  \u001b[38;5;241m=\u001b[39m feature_engineering(lr_test_df\u001b[38;5;241m.\u001b[39mcopy(),  threshold\u001b[38;5;241m=\u001b[39m\u001b[38;5;241m10.0\u001b[39m)\n\u001b[0;32m      8\u001b[0m X_train_imb, y_train_imb \u001b[38;5;241m=\u001b[39m feature_engineering(lr_imb_train_df\u001b[38;5;241m.\u001b[39mcopy(), threshold\u001b[38;5;241m=\u001b[39m\u001b[38;5;241m10.0\u001b[39m)\n",
      "Input \u001b[1;32mIn [25]\u001b[0m, in \u001b[0;36mfeature_engineering\u001b[1;34m(df, threshold)\u001b[0m\n\u001b[0;32m     73\u001b[0m start_idx \u001b[38;5;241m=\u001b[39m \u001b[38;5;241m0\u001b[39m\n\u001b[0;32m     75\u001b[0m \u001b[38;5;28;01mfor\u001b[39;00m i \u001b[38;5;129;01min\u001b[39;00m \u001b[38;5;28mrange\u001b[39m(\u001b[38;5;28mlen\u001b[39m(df)):\n\u001b[1;32m---> 76\u001b[0m     current_t \u001b[38;5;241m=\u001b[39m \u001b[43mtimes\u001b[49m[i]\n\u001b[0;32m     77\u001b[0m     host \u001b[38;5;241m=\u001b[39m df\u001b[38;5;241m.\u001b[39mat[i, \u001b[38;5;124m'\u001b[39m\u001b[38;5;124mhostName\u001b[39m\u001b[38;5;124m'\u001b[39m]\n\u001b[0;32m     79\u001b[0m     \u001b[38;5;28;01mwhile\u001b[39;00m times[start_idx] \u001b[38;5;241m<\u001b[39m current_t \u001b[38;5;241m-\u001b[39m threshold:\n",
      "\u001b[1;31mNameError\u001b[0m: name 'times' is not defined"
     ]
    }
   ],
   "source": [
    "import matplotlib.pyplot as plt\n",
    "from sklearn.linear_model import LogisticRegression\n",
    "from sklearn.metrics import roc_curve, auc, roc_auc_score\n",
    "\n",
    "X_train_bal, y_train_bal = feature_engineering(lr_train_df.copy(), threshold=10.0)\n",
    "X_test_bal,  y_test_bal  = feature_engineering(lr_test_df.copy(),  threshold=10.0)\n",
    "\n",
    "X_train_imb, y_train_imb = feature_engineering(lr_imb_train_df.copy(), threshold=10.0)\n",
    "X_test_imb,  y_test_imb  = feature_engineering(lr_imb_test_df.copy(),  threshold=10.0)\n",
    "\n",
    "X_test_bal = X_test_bal.reindex(columns=X_train_bal.columns, fill_value=0)\n",
    "X_test_imb = X_test_imb.reindex(columns=X_train_imb.columns, fill_value=0)"
   ]
  },
  {
   "cell_type": "markdown",
   "metadata": {},
   "source": [
    "The dataset is partitioned for Logistic Regression. Since we are not tunning the hyperparameter lambda, the dataset is been done in 80% train, 20% test. the balanced train-test set has a roughlt equal amount of evil and benigh observations. the imbalanced train-test set retained the orginal ratio. "
   ]
  },
  {
   "cell_type": "markdown",
   "metadata": {},
   "source": [
    "### Logistic Regression"
   ]
  },
  {
   "cell_type": "code",
   "execution_count": 12,
   "metadata": {},
   "outputs": [
    {
     "data": {
      "text/plain": [
       "LogisticRegression(max_iter=10000)"
      ]
     },
     "execution_count": 12,
     "metadata": {},
     "output_type": "execute_result"
    }
   ],
   "source": [
    "lr_bal = LogisticRegression(solver='lbfgs', max_iter=10000)\n",
    "lr_bal.fit(X_train_bal, y_train_bal)\n",
    "\n",
    "lr_imb = LogisticRegression(solver='lbfgs', max_iter=10000)\n",
    "lr_imb.fit(X_train_imb, y_train_imb)"
   ]
  },
  {
   "cell_type": "code",
   "execution_count": null,
   "metadata": {},
   "outputs": [
    {
     "name": "stdout",
     "output_type": "stream",
     "text": [
      "Balanced Dataset Test AUC: 1.000\n",
      "Imbalanced Dataset Test AUC: 0.992\n"
     ]
    },
    {
     "data": {
      "image/png": "[encoded data removed]",
      "text/plain": [
       "<Figure size 504x432 with 1 Axes>"
      ]
     },
     "metadata": {
      "needs_background": "light"
     },
     "output_type": "display_data"
    }
   ],
   "source": [
    "y_scores_bal = lr_bal.predict_proba(X_test_bal)[:, 1]\n",
    "fpr_bal, tpr_bal, _ = roc_curve(y_test_bal, y_scores_bal)\n",
    "roc_auc_bal = auc(fpr_bal, tpr_bal)\n",
    "\n",
    "y_scores_imb = lr_imb.predict_proba(X_test_imb)[:, 1] \n",
    "fpr_imb, tpr_imb, _ = roc_curve(y_test_imb, y_scores_imb)\n",
    "roc_auc_imb = auc(fpr_imb, tpr_imb)\n",
    "\n",
    "print(f\"Balanced Dataset Test AUC: {roc_auc_bal:.3f}\")\n",
    "print(f\"Imbalanced Dataset Test AUC: {roc_auc_imb:.3f}\")\n",
    "\n",
    "plt.figure(figsize=(7, 6))\n",
    "plt.plot(fpr_bal, tpr_bal, label=f'Balanced Logistic Regression (AUC = {roc_auc_bal:.2f})', color='blue')\n",
    "plt.plot(fpr_imb, tpr_imb, label=f'Imbalanced Logistic Regression (AUC = {roc_auc_imb:.2f})', color='red')\n",
    "\n",
    "plt.xlim([0.0, 1.0])\n",
    "plt.ylim([0.0, 1.05])\n",
    "plt.xlabel('False Positive Rate')\n",
    "plt.ylabel('True Positive Rate')\n",
    "plt.title('ROC Curve Comparison: Balanced vs. Imbalanced')\n",
    "plt.legend(loc='lower right')\n",
    "\n",
    "plt.show()\n"
   ]
  },
  {
   "cell_type": "markdown",
   "metadata": {},
   "source": [
    "The performance is reported as an AUROC graph. This is an obvious case of overfitting, however, I was not able to identify the problem. The model trained on imbalanced data performed poorly as expected."
   ]
  },
  {
   "cell_type": "markdown",
   "metadata": {},
   "source": [
    "### Isolation Forest"
   ]
  },
  {
   "cell_type": "code",
   "execution_count": null,
   "metadata": {},
   "outputs": [
    {
     "data": {
      "text/plain": [
       "1    158432\n",
       "0     30535\n",
       "Name: evil, dtype: int64"
      ]
     },
     "execution_count": 14,
     "metadata": {},
     "output_type": "execute_result"
    }
   ],
   "source": [
    "from sklearn.ensemble import IsolationForest\n",
    "from sklearn.metrics import roc_auc_score, classification_report\n",
    "\n",
    "X_train_unsupervised, _ = feature_engineering(pd.concat([unsupervised_train_df.copy(), unsupervised_validation_df.copy()], ignore_index=True), threshold=10.0)\n",
    "X_test_unsupervised, y_test_unsupervised = feature_engineering(unsupervised_test_df.copy(), threshold=10.0)\n",
    "\n",
    "unsupervised_test_df['evil'].value_counts()"
   ]
  },
  {
   "cell_type": "markdown",
   "metadata": {},
   "source": [
    "The data has already been partitioned for unsupervised trainnig (anamoly detection) by the original author. no evil observations in train and val. "
   ]
  },
  {
   "cell_type": "code",
   "execution_count": null,
   "metadata": {},
   "outputs": [
    {
     "data": {
      "text/plain": [
       "IsolationForest(random_state=42)"
      ]
     },
     "execution_count": 15,
     "metadata": {},
     "output_type": "execute_result"
    }
   ],
   "source": [
    "iso_forest = IsolationForest(n_estimators=100, contamination='auto', random_state=42)\n",
    "iso_forest.fit(X_train_unsupervised)"
   ]
  },
  {
   "cell_type": "code",
   "execution_count": null,
   "metadata": {},
   "outputs": [
    {
     "name": "stdout",
     "output_type": "stream",
     "text": [
      "\n",
      "Classification Report:\n",
      "              precision    recall  f1-score   support\n",
      "\n",
      "           0       0.49      0.71      0.58     30535\n",
      "           1       0.94      0.86      0.90    158432\n",
      "\n",
      "    accuracy                           0.83    188967\n",
      "   macro avg       0.71      0.78      0.74    188967\n",
      "weighted avg       0.87      0.83      0.84    188967\n",
      "\n",
      "\n",
      "Isolation Forest Test AUROC: 0.784\n"
     ]
    },
    {
     "data": {
      "image/png": "[encoded data removed]",
      "text/plain": [
       "<Figure size 504x432 with 1 Axes>"
      ]
     },
     "metadata": {
      "needs_background": "light"
     },
     "output_type": "display_data"
    }
   ],
   "source": [
    "X_test_unsupervised = X_test_unsupervised.reindex(columns=X_train_unsupervised.columns, fill_value=0)\n",
    "y_pred_iso = iso_forest.predict(X_test_unsupervised)\n",
    "\n",
    "y_pred_anomalies = (y_pred_iso == -1).astype(int) \n",
    "\n",
    "if 'evil' in unsupervised_test_df.columns:\n",
    "    print(\"\\nClassification Report:\")\n",
    "    print(classification_report(y_test_unsupervised, y_pred_anomalies))\n",
    "\n",
    "    auc_score = roc_auc_score(y_test_unsupervised, y_pred_anomalies)\n",
    "    print(f\"\\nIsolation Forest Test AUROC: {auc_score:.3f}\")\n",
    "    fpr, tpr, _ = roc_curve(y_test_unsupervised, y_pred_anomalies)\n",
    "\n",
    "    plt.figure(figsize=(7, 6))\n",
    "    plt.plot(fpr, tpr, label=f'Isolation Forest (AUC = {auc_score:.2f})', color='red')\n",
    "\n",
    "    plt.xlim([0.0, 1.0])\n",
    "    plt.ylim([0.0, 1.05])\n",
    "    plt.xlabel('False Positive Rate')\n",
    "    plt.ylabel('True Positive Rate')\n",
    "    plt.title('ROC Curve: Isolation Forest Anomaly Detection')\n",
    "    plt.legend(loc='lower right')\n",
    "\n",
    "    plt.show()"
   ]
  },
  {
   "cell_type": "markdown",
   "metadata": {},
   "source": [
    "The isolation forest model performed very well with a reported 0.83 AUC. And the model only took about 5 seconds to train. "
   ]
  },
  {
   "cell_type": "markdown",
   "metadata": {},
   "source": [
    "### XGBoost"
   ]
  },
  {
   "cell_type": "code",
   "execution_count": null,
   "metadata": {},
   "outputs": [
    {
     "name": "stderr",
     "output_type": "stream",
     "text": [
      "C:\\Users\\Naihe\\AppData\\Roaming\\Python\\Python39\\site-packages\\xgboost\\core.py:158: UserWarning: [15:57:50] WARNING: C:\\buildkite-agent\\builds\\buildkite-windows-cpu-autoscaling-group-i-08cbc0333d8d4aae1-1\\xgboost\\xgboost-ci-windows\\src\\learner.cc:740: \n",
      "Parameters: { \"use_label_encoder\" } are not used.\n",
      "\n",
      "  warnings.warn(smsg, UserWarning)\n"
     ]
    },
    {
     "data": {
      "image/png": "[encoded data removed]",
      "text/plain": [
       "<Figure size 576x432 with 1 Axes>"
      ]
     },
     "metadata": {
      "needs_background": "light"
     },
     "output_type": "display_data"
    },
    {
     "name": "stdout",
     "output_type": "stream",
     "text": [
      "AUROC Score: 0.9998\n"
     ]
    }
   ],
   "source": [
    "import xgboost as xgb\n",
    "from sklearn.metrics import roc_auc_score, roc_curve\n",
    "import matplotlib.pyplot as plt\n",
    "\n",
    "xgb_model = xgb.XGBClassifier(\n",
    "    n_estimators=200, \n",
    "    learning_rate=0.05,\n",
    "    max_depth=6,\n",
    "    scale_pos_weight=6, \n",
    "    use_label_encoder=False,  \n",
    "    eval_metric='logloss'         \n",
    ")\n",
    "\n",
    "xgb_model.fit(X_train_imb, y_train_imb)\n",
    "\n",
    "y_probs = xgb_model.predict_proba(X_test_imb)[:, 1]  \n",
    "\n",
    "auroc_score = roc_auc_score(y_test_imb, y_probs)\n",
    "\n",
    "fpr, tpr, _ = roc_curve(y_test_imb, y_probs)\n",
    "\n",
    "plt.figure(figsize=(8, 6))\n",
    "plt.plot(fpr, tpr, label=f'XGBoost (AUROC = {auroc_score:.4f})', color = 'red')\n",
    "plt.xlabel('False Positive Rate')\n",
    "plt.ylabel('True Positive Rate')\n",
    "plt.title('Receiver Operating Characteristic (ROC) Curve')\n",
    "plt.legend()\n",
    "plt.show()\n",
    "\n",
    "print(f\"AUROC Score: {auroc_score:.4f}\")\n"
   ]
  },
  {
   "cell_type": "markdown",
   "metadata": {},
   "source": [
    "Selected XGBoost since it is good at handling imbalanced data. We can tune the \\[scale_pos_weight\\] parameter to the ratio of negative/postive of the label. But again, the result shows a typical overfitting. there must be soomething wrong with the data partition that I cannot identify. Also the downside of XGBoost which is the same with the Logistic Regression is that it only learns the patterns seen in the training, will not be able to handle new patterns potentially in the real environment. "
   ]
  },
  {
   "cell_type": "markdown",
   "metadata": {},
   "source": [
    "### Autoencoder\n",
    "\n",
    "The autoencoder is selected since it is trained to minimize reconstruction error (difference between input and reconstructed output). In the case of anomally detection which the data is extremely imbalanced, the malicious observation will become very hard to reconstruct. Therefore autoencoder should be a great candidate. "
   ]
  },
  {
   "cell_type": "code",
   "execution_count": 18,
   "metadata": {},
   "outputs": [],
   "source": [
    "import pandas as pd\n",
    "from sklearn.preprocessing import StandardScaler\n",
    "\n",
    "unsupervised_train_df = pd.read_csv('labelled_training_data.csv')\n",
    "unsupervised_test_df = pd.read_csv('labelled_testing_data.csv')\n",
    "unsupervised_validation_df = pd.read_csv('labelled_validation_data.csv')\n",
    "\n",
    "X_train, y_train = feature_engineering(unsupervised_train_df)\n",
    "X_test, y_test = feature_engineering(unsupervised_test_df)\n",
    "X_val, y_val = feature_engineering(unsupervised_validation_df)\n",
    "\n",
    "train_columns = X_train.columns\n",
    "X_test = X_test.reindex(columns=train_columns, fill_value=0)\n",
    "X_val = X_val.reindex(columns=train_columns, fill_value=0)\n",
    "\n",
    "scaler = StandardScaler()\n",
    "X_train_scaled = scaler.fit_transform(X_train)\n",
    "X_test_scaled = scaler.transform(X_test)\n",
    "X_val_scaled = scaler.transform(X_val)"
   ]
  },
  {
   "cell_type": "code",
   "execution_count": null,
   "metadata": {},
   "outputs": [
    {
     "name": "stdout",
     "output_type": "stream",
     "text": [
      "Epoch 1/100\n",
      "\u001b[1m2982/2982\u001b[0m \u001b[32m━━━━━━━━━━━━━━━━━━━━\u001b[0m\u001b[37m\u001b[0m \u001b[1m5s\u001b[0m 1ms/step - loss: 0.3677 - val_loss: 0.4690\n",
      "Epoch 2/100\n",
      "\u001b[1m2982/2982\u001b[0m \u001b[32m━━━━━━━━━━━━━━━━━━━━\u001b[0m\u001b[37m\u001b[0m \u001b[1m4s\u001b[0m 1ms/step - loss: 0.1094 - val_loss: 0.3054\n",
      "Epoch 3/100\n",
      "\u001b[1m2982/2982\u001b[0m \u001b[32m━━━━━━━━━━━━━━━━━━━━\u001b[0m\u001b[37m\u001b[0m \u001b[1m4s\u001b[0m 1ms/step - loss: 0.0725 - val_loss: 0.2854\n",
      "Epoch 4/100\n",
      "\u001b[1m2982/2982\u001b[0m \u001b[32m━━━━━━━━━━━━━━━━━━━━\u001b[0m\u001b[37m\u001b[0m \u001b[1m4s\u001b[0m 1ms/step - loss: 0.0708 - val_loss: 0.2650\n",
      "Epoch 5/100\n",
      "\u001b[1m2982/2982\u001b[0m \u001b[32m━━━━━━━━━━━━━━━━━━━━\u001b[0m\u001b[37m\u001b[0m \u001b[1m4s\u001b[0m 1ms/step - loss: 0.0653 - val_loss: 0.2307\n",
      "Epoch 6/100\n",
      "\u001b[1m2982/2982\u001b[0m \u001b[32m━━━━━━━━━━━━━━━━━━━━\u001b[0m\u001b[37m\u001b[0m \u001b[1m4s\u001b[0m 1ms/step - loss: 0.0737 - val_loss: 0.1772\n",
      "Epoch 7/100\n",
      "\u001b[1m2982/2982\u001b[0m \u001b[32m━━━━━━━━━━━━━━━━━━━━\u001b[0m\u001b[37m\u001b[0m \u001b[1m4s\u001b[0m 1ms/step - loss: 0.0418 - val_loss: 0.0913\n",
      "Epoch 8/100\n",
      "\u001b[1m2982/2982\u001b[0m \u001b[32m━━━━━━━━━━━━━━━━━━━━\u001b[0m\u001b[37m\u001b[0m \u001b[1m4s\u001b[0m 1ms/step - loss: 0.0233 - val_loss: 0.2045\n",
      "Epoch 9/100\n",
      "\u001b[1m2982/2982\u001b[0m \u001b[32m━━━━━━━━━━━━━━━━━━━━\u001b[0m\u001b[37m\u001b[0m \u001b[1m4s\u001b[0m 1ms/step - loss: 0.0365 - val_loss: 0.1304\n",
      "Epoch 10/100\n",
      "\u001b[1m2982/2982\u001b[0m \u001b[32m━━━━━━━━━━━━━━━━━━━━\u001b[0m\u001b[37m\u001b[0m \u001b[1m4s\u001b[0m 1ms/step - loss: 0.0273 - val_loss: 0.1011\n",
      "Epoch 11/100\n",
      "\u001b[1m2982/2982\u001b[0m \u001b[32m━━━━━━━━━━━━━━━━━━━━\u001b[0m\u001b[37m\u001b[0m \u001b[1m4s\u001b[0m 1ms/step - loss: 0.0254 - val_loss: 0.1024\n",
      "Epoch 12/100\n",
      "\u001b[1m2982/2982\u001b[0m \u001b[32m━━━━━━━━━━━━━━━━━━━━\u001b[0m\u001b[37m\u001b[0m \u001b[1m4s\u001b[0m 1ms/step - loss: 0.0456 - val_loss: 0.0832\n",
      "Epoch 13/100\n",
      "\u001b[1m2982/2982\u001b[0m \u001b[32m━━━━━━━━━━━━━━━━━━━━\u001b[0m\u001b[37m\u001b[0m \u001b[1m4s\u001b[0m 1ms/step - loss: 0.0209 - val_loss: 0.0726\n",
      "Epoch 14/100\n",
      "\u001b[1m2982/2982\u001b[0m \u001b[32m━━━━━━━━━━━━━━━━━━━━\u001b[0m\u001b[37m\u001b[0m \u001b[1m4s\u001b[0m 1ms/step - loss: 0.0213 - val_loss: 0.0809\n",
      "Epoch 15/100\n",
      "\u001b[1m2982/2982\u001b[0m \u001b[32m━━━━━━━━━━━━━━━━━━━━\u001b[0m\u001b[37m\u001b[0m \u001b[1m4s\u001b[0m 1ms/step - loss: 0.0258 - val_loss: 0.0820\n",
      "Epoch 16/100\n",
      "\u001b[1m2982/2982\u001b[0m \u001b[32m━━━━━━━━━━━━━━━━━━━━\u001b[0m\u001b[37m\u001b[0m \u001b[1m4s\u001b[0m 1ms/step - loss: 0.0259 - val_loss: 0.0621\n",
      "Epoch 17/100\n",
      "\u001b[1m2982/2982\u001b[0m \u001b[32m━━━━━━━━━━━━━━━━━━━━\u001b[0m\u001b[37m\u001b[0m \u001b[1m4s\u001b[0m 1ms/step - loss: 0.0163 - val_loss: 0.1035\n",
      "Epoch 18/100\n",
      "\u001b[1m2982/2982\u001b[0m \u001b[32m━━━━━━━━━━━━━━━━━━━━\u001b[0m\u001b[37m\u001b[0m \u001b[1m4s\u001b[0m 1ms/step - loss: 0.0285 - val_loss: 0.0856\n",
      "Epoch 19/100\n",
      "\u001b[1m2982/2982\u001b[0m \u001b[32m━━━━━━━━━━━━━━━━━━━━\u001b[0m\u001b[37m\u001b[0m \u001b[1m4s\u001b[0m 1ms/step - loss: 0.0160 - val_loss: 0.1632\n",
      "Epoch 20/100\n",
      "\u001b[1m2982/2982\u001b[0m \u001b[32m━━━━━━━━━━━━━━━━━━━━\u001b[0m\u001b[37m\u001b[0m \u001b[1m4s\u001b[0m 1ms/step - loss: 0.0236 - val_loss: 0.1105\n",
      "Epoch 21/100\n",
      "\u001b[1m2982/2982\u001b[0m \u001b[32m━━━━━━━━━━━━━━━━━━━━\u001b[0m\u001b[37m\u001b[0m \u001b[1m4s\u001b[0m 1ms/step - loss: 0.0154 - val_loss: 0.0603\n",
      "Epoch 22/100\n",
      "\u001b[1m2982/2982\u001b[0m \u001b[32m━━━━━━━━━━━━━━━━━━━━\u001b[0m\u001b[37m\u001b[0m \u001b[1m4s\u001b[0m 1ms/step - loss: 0.0191 - val_loss: 0.0829\n",
      "Epoch 23/100\n",
      "\u001b[1m2982/2982\u001b[0m \u001b[32m━━━━━━━━━━━━━━━━━━━━\u001b[0m\u001b[37m\u001b[0m \u001b[1m4s\u001b[0m 1ms/step - loss: 0.0250 - val_loss: 0.0595\n",
      "Epoch 24/100\n",
      "\u001b[1m2982/2982\u001b[0m \u001b[32m━━━━━━━━━━━━━━━━━━━━\u001b[0m\u001b[37m\u001b[0m \u001b[1m4s\u001b[0m 1ms/step - loss: 0.0156 - val_loss: 0.1052\n",
      "Epoch 25/100\n",
      "\u001b[1m2982/2982\u001b[0m \u001b[32m━━━━━━━━━━━━━━━━━━━━\u001b[0m\u001b[37m\u001b[0m \u001b[1m4s\u001b[0m 1ms/step - loss: 0.0172 - val_loss: 0.0661\n",
      "Epoch 26/100\n",
      "\u001b[1m2982/2982\u001b[0m \u001b[32m━━━━━━━━━━━━━━━━━━━━\u001b[0m\u001b[37m\u001b[0m \u001b[1m4s\u001b[0m 1ms/step - loss: 0.0153 - val_loss: 0.0932\n",
      "Epoch 27/100\n",
      "\u001b[1m2982/2982\u001b[0m \u001b[32m━━━━━━━━━━━━━━━━━━━━\u001b[0m\u001b[37m\u001b[0m \u001b[1m4s\u001b[0m 1ms/step - loss: 0.0216 - val_loss: 0.0535\n",
      "Epoch 28/100\n",
      "\u001b[1m2982/2982\u001b[0m \u001b[32m━━━━━━━━━━━━━━━━━━━━\u001b[0m\u001b[37m\u001b[0m \u001b[1m4s\u001b[0m 1ms/step - loss: 0.0153 - val_loss: 0.1022\n",
      "Epoch 29/100\n",
      "\u001b[1m2982/2982\u001b[0m \u001b[32m━━━━━━━━━━━━━━━━━━━━\u001b[0m\u001b[37m\u001b[0m \u001b[1m4s\u001b[0m 1ms/step - loss: 0.0213 - val_loss: 0.0642\n",
      "Epoch 30/100\n",
      "\u001b[1m2982/2982\u001b[0m \u001b[32m━━━━━━━━━━━━━━━━━━━━\u001b[0m\u001b[37m\u001b[0m \u001b[1m4s\u001b[0m 1ms/step - loss: 0.0159 - val_loss: 0.0887\n",
      "Epoch 31/100\n",
      "\u001b[1m2982/2982\u001b[0m \u001b[32m━━━━━━━━━━━━━━━━━━━━\u001b[0m\u001b[37m\u001b[0m \u001b[1m4s\u001b[0m 1ms/step - loss: 0.0338 - val_loss: 0.0347\n",
      "Epoch 32/100\n",
      "\u001b[1m2982/2982\u001b[0m \u001b[32m━━━━━━━━━━━━━━━━━━━━\u001b[0m\u001b[37m\u001b[0m \u001b[1m4s\u001b[0m 1ms/step - loss: 0.0101 - val_loss: 0.1022\n",
      "Epoch 33/100\n",
      "\u001b[1m2982/2982\u001b[0m \u001b[32m━━━━━━━━━━━━━━━━━━━━\u001b[0m\u001b[37m\u001b[0m \u001b[1m4s\u001b[0m 1ms/step - loss: 0.0175 - val_loss: 0.0597\n",
      "Epoch 34/100\n",
      "\u001b[1m2982/2982\u001b[0m \u001b[32m━━━━━━━━━━━━━━━━━━━━\u001b[0m\u001b[37m\u001b[0m \u001b[1m4s\u001b[0m 1ms/step - loss: 0.0121 - val_loss: 0.1044\n",
      "Epoch 35/100\n",
      "\u001b[1m2982/2982\u001b[0m \u001b[32m━━━━━━━━━━━━━━━━━━━━\u001b[0m\u001b[37m\u001b[0m \u001b[1m4s\u001b[0m 1ms/step - loss: 0.0210 - val_loss: 0.0328\n",
      "Epoch 36/100\n",
      "\u001b[1m2982/2982\u001b[0m \u001b[32m━━━━━━━━━━━━━━━━━━━━\u001b[0m\u001b[37m\u001b[0m \u001b[1m4s\u001b[0m 1ms/step - loss: 0.0130 - val_loss: 0.1211\n",
      "Epoch 37/100\n",
      "\u001b[1m2982/2982\u001b[0m \u001b[32m━━━━━━━━━━━━━━━━━━━━\u001b[0m\u001b[37m\u001b[0m \u001b[1m4s\u001b[0m 1ms/step - loss: 0.0284 - val_loss: 0.0547\n",
      "Epoch 38/100\n",
      "\u001b[1m2982/2982\u001b[0m \u001b[32m━━━━━━━━━━━━━━━━━━━━\u001b[0m\u001b[37m\u001b[0m \u001b[1m4s\u001b[0m 1ms/step - loss: 0.0107 - val_loss: 0.0995\n",
      "Epoch 39/100\n",
      "\u001b[1m2982/2982\u001b[0m \u001b[32m━━━━━━━━━━━━━━━━━━━━\u001b[0m\u001b[37m\u001b[0m \u001b[1m4s\u001b[0m 1ms/step - loss: 0.0198 - val_loss: 0.0515\n",
      "Epoch 40/100\n",
      "\u001b[1m2982/2982\u001b[0m \u001b[32m━━━━━━━━━━━━━━━━━━━━\u001b[0m\u001b[37m\u001b[0m \u001b[1m4s\u001b[0m 1ms/step - loss: 0.0101 - val_loss: 0.0976\n"
     ]
    }
   ],
   "source": [
    "from tensorflow.keras.models import Model\n",
    "from tensorflow.keras.layers import Input, Dense\n",
    "from tensorflow.keras.optimizers import Adam\n",
    "from tensorflow.keras.callbacks import EarlyStopping\n",
    "\n",
    "input_dim = X_train_scaled.shape[1]\n",
    "\n",
    "input_layer = Input(shape=(input_dim,))\n",
    "encoder = Dense(64, activation='relu')(input_layer)\n",
    "bottleneck = Dense(32, activation='relu')(encoder)\n",
    "decoder = Dense(64, activation='relu')(bottleneck)\n",
    "output_layer = Dense(input_dim, activation='linear')(decoder)\n",
    "\n",
    "autoencoder = Model(inputs=input_layer, outputs=output_layer)\n",
    "autoencoder.compile(optimizer=Adam(0.001), loss='mse')\n",
    "\n",
    "early_stop = EarlyStopping(monitor='val_loss', patience=5, restore_best_weights=True)\n",
    "history = autoencoder.fit(\n",
    "    X_train_scaled, X_train_scaled,\n",
    "    epochs=100,\n",
    "    batch_size=256,\n",
    "    validation_data=(X_val_scaled, X_val_scaled),\n",
    "    callbacks=[early_stop],\n",
    "    verbose=1\n",
    ")"
   ]
  },
  {
   "cell_type": "code",
   "execution_count": 20,
   "metadata": {},
   "outputs": [
    {
     "name": "stdout",
     "output_type": "stream",
     "text": [
      "\u001b[1m5906/5906\u001b[0m \u001b[32m━━━━━━━━━━━━━━━━━━━━\u001b[0m\u001b[37m\u001b[0m \u001b[1m3s\u001b[0m 565us/step\n",
      "Test AUROC: 0.9693\n"
     ]
    },
    {
     "data": {
      "image/png": "[encoded data removed]",
      "text/plain": [
       "<Figure size 576x432 with 1 Axes>"
      ]
     },
     "metadata": {
      "needs_background": "light"
     },
     "output_type": "display_data"
    }
   ],
   "source": [
    "import numpy as np\n",
    "from sklearn.metrics import roc_auc_score, roc_curve\n",
    "import matplotlib.pyplot as plt\n",
    "\n",
    "def get_reconstruction_error(model, data):\n",
    "    reconstructions = model.predict(data)\n",
    "    return np.mean(np.power(data - reconstructions, 2), axis=1)\n",
    "\n",
    "test_error = get_reconstruction_error(autoencoder, X_test_scaled)\n",
    "\n",
    "auroc = roc_auc_score(y_test, test_error)\n",
    "print(f\"Test AUROC: {auroc:.4f}\")\n",
    "\n",
    "fpr, tpr, _ = roc_curve(y_test, test_error)\n",
    "plt.figure(figsize=(8, 6))\n",
    "plt.plot(fpr, tpr, label=f'Autoencoder (AUROC = {auroc:.2f})', color = 'red')\n",
    "plt.xlabel('False Positive Rate')\n",
    "plt.ylabel('True Positive Rate')\n",
    "plt.title('Receiver Operating Characteristic (ROC) Curve')\n",
    "plt.legend()\n",
    "plt.show()"
   ]
  },
  {
   "cell_type": "markdown",
   "metadata": {},
   "source": [
    "The autoencoder model also works too good, which implies overfitting of the model. \n",
    "\n",
    "### Conclusion\n",
    "\n",
    "The isolation forest and XGBoost trained very fast. The autoencoder and logistic regression were not too slow either. All four models are at leaset globally explainable. But the performance of three of the four models implied overfitting which is very concerning. If the problem still cannot be identified, I will have to choose isolation forest for the future deployment. "
   ]
  },
  {
   "cell_type": "markdown",
   "metadata": {},
   "source": []
  }
 ],
 "metadata": {
  "kernelspec": {
   "display_name": "base",
   "language": "python",
   "name": "python3"
  },
  "language_info": {
   "codemirror_mode": {
    "name": "ipython",
    "version": 3
   },
   "file_extension": ".py",
   "mimetype": "text/x-python",
   "name": "python",
   "nbconvert_exporter": "python",
   "pygments_lexer": "ipython3",
   "version": "3.9.12"
  }
 },
 "nbformat": 4,
 "nbformat_minor": 2
}
